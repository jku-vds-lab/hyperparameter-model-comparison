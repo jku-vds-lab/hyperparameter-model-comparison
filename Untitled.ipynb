{
 "cells": [
  {
   "cell_type": "code",
   "execution_count": 2,
   "id": "8ce278ed-1746-43d1-80d6-65109fd6f780",
   "metadata": {},
   "outputs": [],
   "source": [
    "HyperXray.add_configuration({parameter1: 3425}, {loss: 0.54354})"
   ]
  },
  {
   "cell_type": "code",
   "execution_count": 3,
   "id": "58f2d6d9-cc32-46e8-9247-1c3e03e87b44",
   "metadata": {},
   "outputs": [
    {
     "data": {
      "text/plain": [
       "'bar'"
      ]
     },
     "execution_count": 3,
     "metadata": {},
     "output_type": "execute_result"
    }
   ],
   "source": [
    "foo"
   ]
  },
  {
   "cell_type": "code",
   "execution_count": null,
   "id": "0bede608-f8fc-4b0c-b706-73fb7edfb2cb",
   "metadata": {},
   "outputs": [],
   "source": []
  }
 ],
 "metadata": {
  "kernelspec": {
   "display_name": "Python 3 (ipykernel)",
   "language": "python",
   "name": "python3"
  },
  "language_info": {
   "codemirror_mode": {
    "name": "ipython",
    "version": 3
   },
   "file_extension": ".py",
   "mimetype": "text/x-python",
   "name": "python",
   "nbconvert_exporter": "python",
   "pygments_lexer": "ipython3",
   "version": "3.10.1"
  }
 },
 "nbformat": 4,
 "nbformat_minor": 5
}
