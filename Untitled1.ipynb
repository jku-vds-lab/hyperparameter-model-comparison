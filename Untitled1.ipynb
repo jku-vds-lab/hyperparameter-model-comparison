{
 "cells": [
  {
   "cell_type": "code",
   "execution_count": null,
   "id": "d1976310-53b3-493d-bb43-50981b011dd2",
   "metadata": {},
   "outputs": [],
   "source": []
  },
  {
   "cell_type": "code",
   "execution_count": 1,
   "id": "a4448e04-b781-4ca8-8994-9b47bfa27b79",
   "metadata": {},
   "outputs": [],
   "source": [
    "# Hyperparameters\n",
    "params = {\n",
    "    \"n_hidden\": 128,\n",
    "    \"lr\": 0.001,\n",
    "    \"top_k\": 5,\n",
    "    \"n_epochs\": 20,\n",
    "    \"n_layers\": 2,\n",
    "    \"batch_size\": 256,\n",
    "    \"p_dropout\": 0.5,\n",
    "    \"seq_length\": 50\n",
    "}"
   ]
  },
  {
   "cell_type": "code",
   "execution_count": null,
   "id": "7bc432e9-c57f-41b9-ab38-8b7f803e7a3f",
   "metadata": {},
   "outputs": [],
   "source": [
    "# Model Training ..."
   ]
  }
 ],
 "metadata": {
  "kernelspec": {
   "display_name": "Python 3 (ipykernel)",
   "language": "python",
   "name": "python3"
  },
  "language_info": {
   "codemirror_mode": {
    "name": "ipython",
    "version": 3
   },
   "file_extension": ".py",
   "mimetype": "text/x-python",
   "name": "python",
   "nbconvert_exporter": "python",
   "pygments_lexer": "ipython3",
   "version": "3.10.1"
  }
 },
 "nbformat": 4,
 "nbformat_minor": 5
}
